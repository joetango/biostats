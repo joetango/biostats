{
 "cells": [
  {
   "cell_type": "code",
   "execution_count": 1,
   "id": "912a361a-6c01-46a3-860c-5b0b6a4a1df2",
   "metadata": {},
   "outputs": [
    {
     "data": {
      "text/plain": [
       "int"
      ]
     },
     "execution_count": 1,
     "metadata": {},
     "output_type": "execute_result"
    }
   ],
   "source": [
    "type(1)"
   ]
  },
  {
   "cell_type": "code",
   "execution_count": 2,
   "id": "f250bcf0-dd3c-4167-874b-3894aac40828",
   "metadata": {},
   "outputs": [
    {
     "data": {
      "text/plain": [
       "float"
      ]
     },
     "execution_count": 2,
     "metadata": {},
     "output_type": "execute_result"
    }
   ],
   "source": [
    "type(3.14)"
   ]
  },
  {
   "cell_type": "code",
   "execution_count": 3,
   "id": "51edbaa9-6d22-4c6e-953b-56f33caed30a",
   "metadata": {},
   "outputs": [
    {
     "name": "stdout",
     "output_type": "stream",
     "text": [
      "this is a test of the print function\n"
     ]
    }
   ],
   "source": [
    "print(\"this is a test of the print function\")"
   ]
  },
  {
   "cell_type": "code",
   "execution_count": 4,
   "id": "471f58f1-33ce-4796-80dd-c4c12ba1811e",
   "metadata": {},
   "outputs": [
    {
     "name": "stdin",
     "output_type": "stream",
     "text": [
      "Enter number:  -2\n"
     ]
    },
    {
     "name": "stdout",
     "output_type": "stream",
     "text": [
      "Nar\n"
     ]
    }
   ],
   "source": [
    "num = int(input(\"Enter number: \"))\n",
    "if int(num) >0:\n",
    "    print(f\"{num} is positive\")\n",
    "else:\n",
    "    print(\"Nar\")"
   ]
  },
  {
   "cell_type": "code",
   "execution_count": 1,
   "id": "625f5efc-e300-47cc-9283-37b319a9ed21",
   "metadata": {},
   "outputs": [
    {
     "name": "stdin",
     "output_type": "stream",
     "text": [
      "How many bags of apples?  5\n",
      "How many apples per bag?  2\n"
     ]
    },
    {
     "name": "stdout",
     "output_type": "stream",
     "text": [
      "There are 5 bags, each bag has 2 apples. Therefore, there are 10 total apples.\n"
     ]
    }
   ],
   "source": [
    "bags = int(input(\"How many bags of apples? \"))\n",
    "apples = int(input(\"How many apples per bag? \"))\n",
    "print(f\"There are {bags} bags, each bag has {apples} apples. Therefore, there are {bags * apples} total apples.\")"
   ]
  },
  {
   "cell_type": "code",
   "execution_count": 17,
   "id": "8dc586e9-c225-49c2-b4a3-32893df2dbbc",
   "metadata": {},
   "outputs": [
    {
     "data": {
      "text/plain": [
       "2.0"
      ]
     },
     "execution_count": 17,
     "metadata": {},
     "output_type": "execute_result"
    }
   ],
   "source": [
    "import math\n",
    "math.sqrt(4)"
   ]
  },
  {
   "cell_type": "code",
   "execution_count": null,
   "id": "4e20cf7b-aacb-44fb-95c7-de321eb2f175",
   "metadata": {},
   "outputs": [],
   "source": []
  }
 ],
 "metadata": {
  "kernelspec": {
   "display_name": "Python 3 (ipykernel)",
   "language": "python",
   "name": "python3"
  },
  "language_info": {
   "codemirror_mode": {
    "name": "ipython",
    "version": 3
   },
   "file_extension": ".py",
   "mimetype": "text/x-python",
   "name": "python",
   "nbconvert_exporter": "python",
   "pygments_lexer": "ipython3",
   "version": "3.12.5"
  }
 },
 "nbformat": 4,
 "nbformat_minor": 5
}
