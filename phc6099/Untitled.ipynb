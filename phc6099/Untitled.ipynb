{
 "cells": [
  {
   "cell_type": "code",
   "execution_count": 3,
   "id": "a30b526c-ea98-43a3-b8c2-361cc90da9da",
   "metadata": {},
   "outputs": [
    {
     "data": {
      "text/plain": [
       "['Amy', 'Beth', 'Carl']"
      ]
     },
     "execution_count": 3,
     "metadata": {},
     "output_type": "execute_result"
    }
   ],
   "source": [
    "class Person:\n",
    "    \n",
    "    def __init__(self, aname=\"John\"):\n",
    "        self.name = aname\n",
    "    \n",
    "    def setName(self, aname):\n",
    "        self.name = aname\n",
    "    \n",
    "    def getName(self):\n",
    "        return(self.name)\n",
    "    \n",
    "    def greet(self):\n",
    "        print(\"Hi there, my name is \" + self.name)\n",
    "\n",
    "\n",
    "class Group:\n",
    "    \n",
    "    def __init__(self):\n",
    "        self.persons = []\n",
    "    \n",
    "    def add(self, aperson):\n",
    "        self.persons.append(aperson)\n",
    "    \n",
    "    def getNameAll(self):\n",
    "        res = [aperson.getName() for aperson in self.persons]\n",
    "        return(res)\n",
    "        \n",
    "agroup = Group()\n",
    "\n",
    "agroup.add(Person(\"Amy\"))\n",
    "agroup.add(Person(\"Beth\"))\n",
    "agroup.add(Person(\"Carl\"))\n",
    "\n",
    "agroup.getNameAll()"
   ]
  },
  {
   "cell_type": "code",
   "execution_count": null,
   "id": "1848bb38-949d-4023-8278-a8b8feabaf15",
   "metadata": {},
   "outputs": [],
   "source": []
  }
 ],
 "metadata": {
  "kernelspec": {
   "display_name": "Python 3 (ipykernel)",
   "language": "python",
   "name": "python3"
  },
  "language_info": {
   "codemirror_mode": {
    "name": "ipython",
    "version": 3
   },
   "file_extension": ".py",
   "mimetype": "text/x-python",
   "name": "python",
   "nbconvert_exporter": "python",
   "pygments_lexer": "ipython3",
   "version": "3.12.5"
  }
 },
 "nbformat": 4,
 "nbformat_minor": 5
}
