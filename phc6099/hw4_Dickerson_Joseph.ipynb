{
 "cells": [
  {
   "cell_type": "markdown",
   "id": "881faec9",
   "metadata": {},
   "source": [
    "# HW4\n",
    "### Total points: 100 (5% of final grade).\n",
    "### Due: 11:59 pm, Nov 7th, 2024\n",
    "## Name: XX"
   ]
  },
  {
   "cell_type": "markdown",
   "id": "e22d5425",
   "metadata": {},
   "source": [
    "## Question 1. String Manipulation. (6 pts)\n",
    "Extract the last names from the person list below, and save the result in a list. "
   ]
  },
  {
   "cell_type": "code",
   "execution_count": 14,
   "id": "044255cd",
   "metadata": {
    "tags": []
   },
   "outputs": [
    {
     "name": "stdout",
     "output_type": "stream",
     "text": [
      "['Smith', 'Drake', 'Mason', 'Johnson', 'Williams', 'Walker', 'Frog', 'Franklin', 'John', 'Miller', 'Robertson', 'Robertson', 'White', 'Gogh', 'Malone', 'Clark']\n"
     ]
    }
   ],
   "source": [
    "personList = [ 'Julia Smith', 'Francis Drake', 'Michael Mason',  \n",
    "                'Jennifer Johnson', 'John Williams', 'Susanne Walker',  \n",
    "                'Kermit the Frog', 'Dr. Melissa Franklin', 'Papa John', \n",
    "                'Walter John Miller', 'Frank Michael Robertson', 'Richard Robertson', \n",
    "                'Erik D. White', 'Vincent van Gogh', 'Dr. Dr. Matthew Malone', \n",
    "                'Rebecca Clark' ] \n",
    "\n",
    "\n",
    "last_names = [name.split()[-1] for name in personList]\n",
    "\n",
    "print(last_names)\n"
   ]
  },
  {
   "cell_type": "markdown",
   "id": "f1e598c2",
   "metadata": {},
   "source": [
    "## Question 2. String Manipulation. (6 pts)\n",
    "Extract the first names from the person list below, and save the result in a list. \n"
   ]
  },
  {
   "cell_type": "code",
   "execution_count": 15,
   "id": "45a7f722",
   "metadata": {
    "tags": []
   },
   "outputs": [
    {
     "name": "stdout",
     "output_type": "stream",
     "text": [
      "['Julia', 'Francis', 'Michael', 'Jennifer', 'John', 'Susanne', 'Kermit', 'Melissa', 'Papa', 'Walter', 'Frank', 'Richard', 'Erik', 'Vincent', 'Matthew', 'Rebecca']\n"
     ]
    }
   ],
   "source": [
    "personList = [ 'Julia Smith', 'Francis Drake', 'Michael Mason',  \n",
    "                'Jennifer Johnson', 'John Williams', 'Susanne Walker',  \n",
    "                'Kermit the Frog', 'Dr. Melissa Franklin', 'Papa John', \n",
    "                'Walter John Miller', 'Frank Michael Robertson', 'Richard Robertson', \n",
    "                'Erik D. White', 'Vincent van Gogh', 'Dr. Dr. Matthew Malone', \n",
    "                'Rebecca Clark' ] \n",
    "\n",
    "exclusions = [\"Dr.\", \"Mr.\", \"Mrs.\", \"Ms.\"]\n",
    "\n",
    "first_names = []\n",
    "\n",
    "for name in personList:\n",
    "    p1 = name.split()\n",
    "    first_name = p1[0]\n",
    "    index = 0\n",
    "\n",
    "    while index < len(p1) and p1[index] in exclusions:\n",
    "        index += 1\n",
    "\n",
    "    if index < len(p1):\n",
    "        first_names.append(p1[index])\n",
    "    else:\n",
    "        first_names.append(\"\")\n",
    "\n",
    "print(first_names)\n"
   ]
  },
  {
   "cell_type": "markdown",
   "id": "a95ee659",
   "metadata": {},
   "source": [
    "## Question 3. File read. (6 pts)\n",
    "The targetted file is located here: https://caleb-huo.github.io/teaching/data/Python/Student_data.csv.\n",
    "Read in this file and skip the header line ('Name', 'Hobby', 'Year_in_colledge', 'Initial_GPA', 'Study_time').\n",
    "Prepare the data in the format of a list, with each element of the list being a tuple.\n",
    "The first element of the list should be ('Dan', 'Football', 'freshman', '3.1', '10'). Print out the result."
   ]
  },
  {
   "cell_type": "code",
   "execution_count": 7,
   "id": "03b0d58b",
   "metadata": {
    "tags": []
   },
   "outputs": [
    {
     "data": {
      "text/plain": [
       "[('Dan', 'Football', 'freshman', 3.1, 10),\n",
       " ('Beth', 'Music', 'sophomore', 3.2, 20),\n",
       " ('Carl', 'Basketball', 'senior', 3.6, 14),\n",
       " ('Frank', 'Cooking', 'sophomore', 3.4, 16),\n",
       " ('Emily', 'Running', 'junior', 3.3, 18),\n",
       " ('Amy', 'Swimming', 'senior', 3.0, 15),\n",
       " ('Lucas', 'Hiking', 'sophomore', 3.7, 13),\n",
       " ('Dave', 'Fishing', 'junior', 3.9, 11),\n",
       " ('Ashely', 'Skiing', 'senior', 3.1, 15),\n",
       " ('Chris', 'Singing', 'freshman', 3.6, 19)]"
      ]
     },
     "execution_count": 7,
     "metadata": {},
     "output_type": "execute_result"
    }
   ],
   "source": [
    "import pandas as pd\n",
    "\n",
    "data = pd.read_csv(\"https://caleb-huo.github.io/teaching/data/Python/Student_data.csv\", header = None, skiprows = 1)\n",
    "data.head\n",
    "\n",
    "list(data.itertuples(index=False, name = None))\n"
   ]
  },
  {
   "cell_type": "markdown",
   "id": "33e5b144",
   "metadata": {},
   "source": [
    "## Question 4. List comprehension (6 pts)\n",
    "Use the knowledge of list comprehension to create a dictionary based on the student list above.\n",
    "The dictionary key should be students' name, and the value should be GPA in float type. Only output the elements of the dictionary with GPA >= 3.5. "
   ]
  },
  {
   "cell_type": "code",
   "execution_count": 9,
   "id": "9d3d25e7",
   "metadata": {
    "tags": []
   },
   "outputs": [
    {
     "data": {
      "text/plain": [
       "{0: 0       Dan\n",
       " 1      Beth\n",
       " 2      Carl\n",
       " 3     Frank\n",
       " 4     Emily\n",
       " 5       Amy\n",
       " 6     Lucas\n",
       " 7      Dave\n",
       " 8    Ashely\n",
       " 9     Chris\n",
       " Name: 0, dtype: object,\n",
       " 1: 0      Football\n",
       " 1         Music\n",
       " 2    Basketball\n",
       " 3       Cooking\n",
       " 4       Running\n",
       " 5      Swimming\n",
       " 6        Hiking\n",
       " 7       Fishing\n",
       " 8        Skiing\n",
       " 9       Singing\n",
       " Name: 1, dtype: object,\n",
       " 2: 0     freshman\n",
       " 1    sophomore\n",
       " 2       senior\n",
       " 3    sophomore\n",
       " 4       junior\n",
       " 5       senior\n",
       " 6    sophomore\n",
       " 7       junior\n",
       " 8       senior\n",
       " 9     freshman\n",
       " Name: 2, dtype: object,\n",
       " 3: 0    3.1\n",
       " 1    3.2\n",
       " 2    3.6\n",
       " 3    3.4\n",
       " 4    3.3\n",
       " 5    3.0\n",
       " 6    3.7\n",
       " 7    3.9\n",
       " 8    3.1\n",
       " 9    3.6\n",
       " Name: 3, dtype: float64,\n",
       " 4: 0    10\n",
       " 1    20\n",
       " 2    14\n",
       " 3    16\n",
       " 4    18\n",
       " 5    15\n",
       " 6    13\n",
       " 7    11\n",
       " 8    15\n",
       " 9    19\n",
       " Name: 4, dtype: int64}"
      ]
     },
     "execution_count": 9,
     "metadata": {},
     "output_type": "execute_result"
    }
   ],
   "source": [
    "d = dict(data)\n",
    "d\n"
   ]
  },
  {
   "cell_type": "markdown",
   "id": "04c2ab76",
   "metadata": {
    "tags": []
   },
   "source": [
    "## Question 5. Class basic. (6 pts)\n",
    "Based on this student data, create a class Student.\n",
    "The Student class should have the following 5 attributes:\n",
    "\n",
    "- Name\n",
    "- Hobby\n",
    "- Year_in_colledge\n",
    "- init_GPA\n",
    "- study_time\n",
    "\n",
    "And implement a \"introduction()\" method for this Student class.\n",
    "This method should print out the following sentence:\n",
    "\n",
    "- \"Hello, this is XX. I am a XX. My hobby is XX!\"\n",
    "\n",
    "Then please create an object with the information of the first student (i.e., Dan). \n",
    "**Then use this introduction method**, we should expect to see the following\n",
    "\n",
    "- Hello, this is Dan. I am a freshman. My hobby is Football!\n",
    "\n",
    "Note that you may need to implement more methods for this class for future questions."
   ]
  },
  {
   "cell_type": "code",
   "execution_count": 5,
   "id": "032f3af1",
   "metadata": {},
   "outputs": [],
   "source": [
    "## implement your class here. \n",
    "## Note that you may need to implement more methods for this class for future questions.\n",
    "\n",
    "## your code:\n",
    "\n"
   ]
  },
  {
   "cell_type": "code",
   "execution_count": 6,
   "id": "171459d6",
   "metadata": {},
   "outputs": [],
   "source": [
    "## Please create an object with the information of the first student. \n",
    "## When using the introduction method.\n",
    "## You should expect to see:\n",
    "## Hello, this is Dan. I am a freshman. My hobby is Football!\n",
    "\n",
    "## your code:\n",
    "\n"
   ]
  },
  {
   "cell_type": "markdown",
   "id": "39290c66",
   "metadata": {},
   "source": [
    "## Question 6. Get GPA (6 pts)\n",
    "Implement a \"getGPA()\" method in the Student class in Question 5. \n",
    "You can directly append code to Student class in Question 5 instead of creating a new class.\n",
    "In the \"getGPA()\" method, \n",
    "round the result such that there is only 2 digits after the decimal.\n",
    "Then constructing a Student object with information of Lucas, and get the GPA for Lucas. \n"
   ]
  },
  {
   "cell_type": "code",
   "execution_count": 7,
   "id": "16664237",
   "metadata": {},
   "outputs": [],
   "source": [
    "## your code:\n",
    "\n"
   ]
  },
  {
   "cell_type": "markdown",
   "id": "f7a29f94",
   "metadata": {},
   "source": [
    "## Question 7. Update GPA method. (6 pts) \n",
    "Implement a \"updateGPA()\" method in the Student class in Question 5. \n",
    "You can directly append code to Student class in Question 5 instead of creating a new class.\n",
    "Studying and working hard will be helpful to improve GPA.\n",
    "In the \"updateGPA()\" method, the new GPA = old GPA + log10(study_time) - 1.\n",
    "Note that the new GPA should not be above 4.0.\n",
    "If it is above, just set it to be 4.0.\n",
    "Print out Emily's original GPA.\n",
    "Also print out Emily's GPA aftering studing.\n"
   ]
  },
  {
   "cell_type": "code",
   "execution_count": 8,
   "id": "814887ab",
   "metadata": {},
   "outputs": [],
   "source": [
    "## your code:\n",
    "\n"
   ]
  },
  {
   "cell_type": "markdown",
   "id": "ce8d2067",
   "metadata": {},
   "source": [
    "## Question 8. Implement a StudyGroup Class. (6 pts)\n",
    "This StudyGroup Class should have the following attribute:\n",
    "\n",
    "- students: a list of Student objects\n",
    "\n",
    "and the following methods:\n",
    "\n",
    "- add(): add a Student to the StudyGroup class\n",
    "- get_roster(): print out a list of all student names.\n",
    "\n",
    "Then create the StudyGroup object, add all 10 students to the StudyGroup object, and finally, print out all students' names as a list.\n",
    "Note that you may need to implement more methods for this class for future questions.\n"
   ]
  },
  {
   "cell_type": "code",
   "execution_count": 9,
   "id": "f950f937",
   "metadata": {},
   "outputs": [],
   "source": [
    "## implement your class here. \n",
    "## Note that you may need to implement more methods for this class for future questions.\n",
    "\n",
    "## your code:\n",
    "\n"
   ]
  },
  {
   "cell_type": "code",
   "execution_count": 10,
   "id": "d560029e",
   "metadata": {},
   "outputs": [],
   "source": [
    "## Please create an object for the Study Group class.\n",
    "## Then you may want to add all 10 students to this study group.\n",
    "## Finally, print all students' name using the get_roster() method.\n",
    "\n",
    "## your code:\n",
    "\n"
   ]
  },
  {
   "cell_type": "markdown",
   "id": "c12a9e8d",
   "metadata": {
    "tags": []
   },
   "source": [
    "## Question 9. Introduce all students (6 pts)\n",
    "Implement a introduction_all() method in the StudyGroup class in Question 8. \n",
    "You can directly append code to the StudyGroup class in Question 8 instead of creating a new class.\n",
    "The introduction_all() method should print out the introduction of each student line by line.\n",
    "The order of the introduction should be the alphabetic order.\n",
    "For example, the first introduction should come from student Amy.\n",
    "Show the result below.\n"
   ]
  },
  {
   "cell_type": "code",
   "execution_count": 11,
   "id": "0eb4e93e",
   "metadata": {},
   "outputs": [],
   "source": [
    "## your code:\n",
    "\n"
   ]
  },
  {
   "cell_type": "markdown",
   "id": "08fa66ce",
   "metadata": {},
   "source": [
    "## Question 10. Get average GPA. (6 pts)\n",
    "Implement a \"get_ave_GPA()\" method in the StudyGroup class in Question 8. \n",
    "This method will return the average GPA of all students in this class.\n",
    "**Round the result with 2 digits after the decimal.**\n",
    "You can directly append code to the StudyGroup class in Question 8 instead of creating a new class.\n",
    "Then print out the average GPA of all students in this study group.\n",
    "\n"
   ]
  },
  {
   "cell_type": "code",
   "execution_count": 12,
   "id": "f7360249",
   "metadata": {},
   "outputs": [],
   "source": [
    "## your code:\n",
    "\n"
   ]
  },
  {
   "cell_type": "markdown",
   "id": "01386a98",
   "metadata": {},
   "source": [
    "## Question 11. Group Study. (6 pts) \n",
    "Implement a \"group_study()\" method in the StudyGroup class in Question 8. \n",
    "This method will let each student in the class study according to their study time.\n",
    "You can directly append code to the StudyGroup class in Question 8 instead of creating a new class.\n",
    "Then print out the average GPA after group study.\n",
    "\n"
   ]
  },
  {
   "cell_type": "code",
   "execution_count": 13,
   "id": "7858be4a",
   "metadata": {},
   "outputs": [],
   "source": [
    "## your code:\n",
    "\n"
   ]
  },
  {
   "cell_type": "markdown",
   "id": "2ced0952",
   "metadata": {},
   "source": [
    "## Question 12. Get highest GPA. (6 pts) \n",
    "Implement a \"get_high_GPA()\" method in the StudyGroup class in Question 8. \n",
    "This method will return the GPA and the student's name in the format of dictionary (i.e.,g {name:GPA}).\n",
    "You can directly append code to the StudyGroup class in Question 8 instead of creating a new class.\n",
    "Then print out the resulting dictionary (also after group study).\n",
    "\n"
   ]
  },
  {
   "cell_type": "code",
   "execution_count": 14,
   "id": "fb7a123a",
   "metadata": {},
   "outputs": [],
   "source": [
    "## your code:\n",
    "\n"
   ]
  },
  {
   "cell_type": "markdown",
   "id": "9e7aaff5",
   "metadata": {},
   "source": [
    "## Question 13. Numpy operations. (6 pts)\n",
    "We have created the following two numpy arrays A and B.\n",
    "Perform element-wise calculation: |(A-B)/(A+B)|, where || indicates the absolute value.\n"
   ]
  },
  {
   "cell_type": "code",
   "execution_count": 15,
   "id": "d830d4f2",
   "metadata": {
    "tags": []
   },
   "outputs": [],
   "source": [
    "\n",
    "import numpy as np\n",
    "\n",
    "A = np.array([[3, 4, 9, 2],\n",
    "              [5, 3, 2, 5]])\n",
    "B = np.array([[4, 3, 2, 5],\n",
    "              [6, 3, 1, 6]])\n",
    "\n",
    "## your code:\n",
    "\n",
    "\n"
   ]
  },
  {
   "cell_type": "markdown",
   "id": "ae586c5d",
   "metadata": {},
   "source": [
    "## Question 14. Matrix operations. (6 pts)\n",
    "Calculate $C = A \\times B^\\top$.\n",
    "Print out $C$. \n",
    "What is the largest eigenvalues of matrix $C$\n"
   ]
  },
  {
   "cell_type": "code",
   "execution_count": 16,
   "id": "851bf79a",
   "metadata": {},
   "outputs": [],
   "source": [
    "## your code:\n",
    "\n"
   ]
  },
  {
   "cell_type": "markdown",
   "id": "303f4ac2",
   "metadata": {},
   "source": [
    "## Question 15. Matrix margin calculation. (6 pts)\n",
    "Calculate row_sums and column_means for $A$.\n",
    "Calculate row_standard deviation and column_variance for $B$.\n"
   ]
  },
  {
   "cell_type": "code",
   "execution_count": 17,
   "id": "b6b02367",
   "metadata": {},
   "outputs": [],
   "source": [
    "## your code:\n",
    "\n"
   ]
  },
  {
   "cell_type": "markdown",
   "id": "faa1b0f7",
   "metadata": {},
   "source": [
    "## Question 16. Stacking. (6 pts)\n",
    "1. Generate a 1D numpy array containing 10 equally spaced values between 5 and 50.\n",
    "2. Generate a 2D numpy array 2 rows by 10 columns with each element being 1.\n",
    "3. Generate a 2D numpy array 3 rows by 5 columns with each element being 2.\n",
    "4. Generate a 2D numpy array 3 rows by 5 columns with each element being -2.\n",
    "5. Combine the arrays in step 3 and 4 to get a 2D numpy array with 3 rows and 10 columns.\n",
    "6. Combine the arrays in step 1, 2 and 5 to get a 2D numpy array with 6 rows and 10 columns.\n",
    "Print out this array (6 rows and 10 columns).\n"
   ]
  },
  {
   "cell_type": "code",
   "execution_count": 18,
   "id": "df06de08",
   "metadata": {
    "tags": []
   },
   "outputs": [],
   "source": [
    "## your code\n",
    "\n"
   ]
  },
  {
   "cell_type": "markdown",
   "id": "a03c95ac",
   "metadata": {},
   "source": [
    "## Note (4 pts):\n",
    "\n",
    "\n",
    "\n",
    "### Homework should be uploaded to courseweb:\n",
    "1. Save your compiled result as html file. Rename the file name as: hw4_Lastname_Firstname.html. To save .ipynb as .html, click file -> save and export Notebook as -> html.\n",
    "2. Don't forget to write your name on the top of the html file.\n",
    "3. ipynb file is not required. You only need to upload the html file to the [e-leaning](https://elearning.ufl.edu) website.\n",
    "\n",
    "### If you generate a figure, please write appropriate figure title, labels, legend if necessary.\n",
    "\n",
    "### If your code is not intuitive, please write comments to make the code readible. \n",
    "\n",
    "\n"
   ]
  }
 ],
 "metadata": {
  "kernelspec": {
   "display_name": "Python 3 (ipykernel)",
   "language": "python",
   "name": "python3"
  },
  "language_info": {
   "codemirror_mode": {
    "name": "ipython",
    "version": 3
   },
   "file_extension": ".py",
   "mimetype": "text/x-python",
   "name": "python",
   "nbconvert_exporter": "python",
   "pygments_lexer": "ipython3",
   "version": "3.12.5"
  }
 },
 "nbformat": 4,
 "nbformat_minor": 5
}
