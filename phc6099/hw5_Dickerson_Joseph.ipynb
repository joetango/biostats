{
 "cells": [
  {
   "cell_type": "markdown",
   "metadata": {},
   "source": [
    "# HW5\n",
    "### Total points: 100 (5% of final grade).\n",
    "### Due: 11:59 pm, Nov 21st, 2024\n",
    "## Name: XX"
   ]
  },
  {
   "cell_type": "code",
   "execution_count": 1,
   "metadata": {
    "tags": []
   },
   "outputs": [],
   "source": [
    "## you may need to use these two packages\n",
    "import numpy as np\n",
    "import pandas as pd\n"
   ]
  },
  {
   "cell_type": "markdown",
   "metadata": {},
   "source": [
    "## Question 1. Numpy create. (5 pts)\n",
    "Create a numpy array with 4 rows and 3 columns and with all elements being 1.\n",
    "Replace the values in a sub-array, defined by the last two columns and last two rows, with 10.\n",
    "Print out this array matrix.\n"
   ]
  },
  {
   "cell_type": "code",
   "execution_count": 2,
   "metadata": {
    "tags": []
   },
   "outputs": [],
   "source": [
    "## your code\n"
   ]
  },
  {
   "cell_type": "markdown",
   "metadata": {},
   "source": [
    "## Question 2. Numpy split and combine. (5 pts)\n",
    "Split the following array (in the code section) vertically into three sub-arrays, \n",
    "and then horizentally combine these sub-arrays.\n",
    "You should expect to see the following results.\n",
    "\n",
    "array([[ 0,  1,  2,  3,  8,  9, 10, 11, 16, 17, 18, 19],  \n",
    "&nbsp; &nbsp; &nbsp; &nbsp; [ 4,  5,  6,  7, 12, 13, 14, 15, 20, 21, 22, 23]])"
   ]
  },
  {
   "cell_type": "code",
   "execution_count": 3,
   "metadata": {},
   "outputs": [],
   "source": [
    "data = np.arange(24).reshape(6,4)\n",
    "\n",
    "## your code\n",
    "\n"
   ]
  },
  {
   "cell_type": "markdown",
   "metadata": {},
   "source": [
    "## Question 3. Frequency count. (5 pts)\n",
    "$\\pi$ with 100 digits after decimal is given below. There are a total of 101 digits. Which digit has the highest frequency? Purely use  code to extract this digit.\n"
   ]
  },
  {
   "cell_type": "code",
   "execution_count": 4,
   "metadata": {},
   "outputs": [],
   "source": [
    "PI = \"3.1415926535897932384626433832795028841971693993751058209749445923078164062862089986280348253421170679\"\n",
    "\n",
    "## your code:\n"
   ]
  },
  {
   "cell_type": "markdown",
   "metadata": {},
   "source": [
    "## Question 4. Broadcasting. (5 pts)\n",
    "A data matrix (3 rows and 5 columns) is given as the following.\n",
    "Calculate the row median (median value for each row). \n",
    "Then multiply this row median with the data matrix (each column of the data matrix)."
   ]
  },
  {
   "cell_type": "code",
   "execution_count": 5,
   "metadata": {},
   "outputs": [],
   "source": [
    "data2d = np.arange(15,0,-1).reshape(3,5)\n",
    "\n",
    "## your code:\n",
    "\n"
   ]
  },
  {
   "cell_type": "markdown",
   "metadata": {},
   "source": [
    "## Question 5. Broadcasting and matrix multiplication. (5 pts)\n",
    "A data matrix (3 rows and 5 columns) is given as the following.\n",
    "Calculate the column median (median value for each column). \n",
    "Then do matrix multiplication of the data matrix (3 by 5) with this column mean (5 by 1)."
   ]
  },
  {
   "cell_type": "code",
   "execution_count": 6,
   "metadata": {},
   "outputs": [],
   "source": [
    "data2d = np.arange(15,0,-1).reshape(3,5)\n",
    "\n",
    "## your code:\n",
    "\n"
   ]
  },
  {
   "cell_type": "markdown",
   "metadata": {},
   "source": [
    "## Question 6. Create a Series. (5 pts)\n",
    "Using list comprehension to create the following Series:\n",
    "\n",
    "101 &nbsp; &nbsp; &nbsp; &nbsp; 15.0  \n",
    "102 &nbsp; &nbsp; &nbsp; &nbsp; 25.0  \n",
    "103 &nbsp; &nbsp; &nbsp; &nbsp; 35.0  \n",
    "104 &nbsp; &nbsp; &nbsp; &nbsp; 45.0  \n",
    "105 &nbsp; &nbsp; &nbsp; &nbsp; 55.0  \n",
    "106 &nbsp; &nbsp; &nbsp; &nbsp; 65.0  \n",
    "107 &nbsp; &nbsp; &nbsp; &nbsp; 75.0  \n",
    "108 &nbsp; &nbsp; &nbsp; &nbsp; 85.0  \n",
    "109 &nbsp; &nbsp; &nbsp; &nbsp; 95.0  \n",
    "dtype: float64  \n"
   ]
  },
  {
   "cell_type": "code",
   "execution_count": 7,
   "metadata": {},
   "outputs": [],
   "source": [
    "## your code:\n",
    "\n"
   ]
  },
  {
   "cell_type": "markdown",
   "metadata": {
    "tags": []
   },
   "source": [
    "## Question 7. Create DataFrame. (5 pts)\n",
    "Create the following DataFrame object and assign it to a variable. \n",
    "Convert the first column (company) to index. \n",
    "Print out this variable.\n",
    "\n",
    "\n",
    "         company   price   ticker\n",
    "    0     Amazon  2375.0     AMZN\n",
    "    1  Microsoft   178.6     MSFT\n",
    "    2      Apple   179.2     AAPL\n"
   ]
  },
  {
   "cell_type": "code",
   "execution_count": 8,
   "metadata": {},
   "outputs": [],
   "source": [
    "## your code:\n",
    "\n"
   ]
  },
  {
   "cell_type": "markdown",
   "metadata": {},
   "source": [
    "## Question 8. File read. (5 pts)\n",
    "The stock price data is located here: https://caleb-huo.github.io/teaching/data/Python/stock_price.csv.\n",
    "Read in this file to create a dataFrame using Pandas and set the Date colunms as the index (should make it as datetimeindex).\n",
    "Print out the last 10 lines of this dataFrame"
   ]
  },
  {
   "cell_type": "code",
   "execution_count": 9,
   "metadata": {},
   "outputs": [],
   "source": [
    "## your code:\n",
    "\n"
   ]
  },
  {
   "cell_type": "markdown",
   "metadata": {},
   "source": [
    "## Question 9. Apply functions for dataFrame. (5 pts)\n",
    "For the stock price data in January 2022, what is the coefficient of variation $CV = \\frac{\\sigma}{\\mu}$ for each stock? where $\\sigma$ indicates standard deviation, and $\\mu$ indicates mean."
   ]
  },
  {
   "cell_type": "code",
   "execution_count": 10,
   "metadata": {},
   "outputs": [],
   "source": [
    "## your code:\n"
   ]
  },
  {
   "cell_type": "markdown",
   "metadata": {},
   "source": [
    "## Question 10. Apply functions for dataFrame. (5 pts)\n",
    "First, calculate daily stock return, which is defined as $\\frac{price_{day1} - price_{day0}}{price_{day0}}$. Here, day1 is the currentm trading day and day0 is the previous trading day. For each stock, what is the frequency of the following events:\n",
    "1. daily stock return >= 0.05\n",
    "2. daily stock return >= 0.10\n",
    "3. daily stock return >= 0.15\n",
    "\n",
    "Prepare the result as a dataFrame. In this question, you need to consider the data in all available time. You may want to use the pct_change method (https://pandas.pydata.org/docs/reference/api/pandas.DataFrame.pct_change.html). "
   ]
  },
  {
   "cell_type": "code",
   "execution_count": 11,
   "metadata": {},
   "outputs": [],
   "source": [
    "## your code:\n"
   ]
  },
  {
   "cell_type": "markdown",
   "metadata": {},
   "source": [
    "## Question 11. Daily return frequency summary. (5 pts)\n",
    "For stock TSLA, count the frequency of the daily stock return of the following categories:  \n",
    "(-inf, -0.1]  \n",
    "(-0.1, -0.05]  \n",
    "(-0.05, -0.01]  \n",
    "(-0.01, 0.01]  \n",
    "(0.01, 0.05]  \n",
    "(0.05, 0.1]  \n",
    "(0.1, inf]  \n",
    "\n",
    "In this question, you need to consider the data in all available time."
   ]
  },
  {
   "cell_type": "code",
   "execution_count": 12,
   "metadata": {},
   "outputs": [],
   "source": [
    "## your code:\n"
   ]
  },
  {
   "cell_type": "markdown",
   "metadata": {},
   "source": [
    "## Question 12. Groupby. (5 pts)\n",
    "In year 2021, what is the mean stock return for each stock in each month?\n",
    "Prepare the result as a dataFrame, in which month is the index, and stock symbol is the column names."
   ]
  },
  {
   "cell_type": "code",
   "execution_count": 13,
   "metadata": {},
   "outputs": [],
   "source": [
    "## your code:\n"
   ]
  },
  {
   "cell_type": "markdown",
   "metadata": {},
   "source": [
    "## Question 13. Wide format to long format. (5 pts)\n",
    "Convert the dataFrame in the previous question into long format.\n",
    "The results should have three columns: month, stock symbol, and the mean stock return.\n",
    "Print the first 10 lines of the results."
   ]
  },
  {
   "cell_type": "code",
   "execution_count": 14,
   "metadata": {},
   "outputs": [],
   "source": [
    "## your code:\n"
   ]
  },
  {
   "cell_type": "markdown",
   "metadata": {},
   "source": [
    "## Question 14. Long format to wide format. (5 pts)\n",
    "Convert the dataFrame in the previous question into wide format.\n",
    "The results should have (1) 12 columns indicating 12 months; \n",
    "(2) 4 stock symbols as index.\n",
    "Each cell in the dataFrame indicates the return of a stock at a certain month.\n"
   ]
  },
  {
   "cell_type": "code",
   "execution_count": 15,
   "metadata": {},
   "outputs": [],
   "source": [
    "## your code:\n"
   ]
  },
  {
   "cell_type": "markdown",
   "metadata": {},
   "source": [
    "## Question 15. Max and Min. (5 pts)\n",
    "Based on the dataFrame (mean stock return for each month) in **Question 12**,\n",
    "for each stock,\n",
    "calculate 4 attributes including: \n",
    "(1) the max \"mean stock return\", \n",
    "(2) the month of the max \"mean stock return\",\n",
    "(3) the min \"mean stock return\", \n",
    "and (4) the month of the min \"mean stock return\".\n",
    "Prepare the results as a dataFrame (stocks on rows and the 4 attributes on columns).\n",
    "Make sure the month is rendered as integer.\n"
   ]
  },
  {
   "cell_type": "code",
   "execution_count": 16,
   "metadata": {},
   "outputs": [],
   "source": [
    "## your code:\n"
   ]
  },
  {
   "cell_type": "markdown",
   "metadata": {},
   "source": [
    "## Question 16. Multi-level Groupby. (5 pts)\n",
    "Using all data in years 2020 and 2021, calcualte the sharpe ratio for each stock within each month within each year. \n",
    "The sharpe ratio is defined as (mean stock return)/(standard deviation of the stock return).\n",
    "For the resulting dataFrame, year and month should be the multi-level index, and the columns are the 4 stocks."
   ]
  },
  {
   "cell_type": "code",
   "execution_count": 17,
   "metadata": {},
   "outputs": [],
   "source": [
    "## your code:\n"
   ]
  },
  {
   "cell_type": "markdown",
   "metadata": {
    "tags": []
   },
   "source": [
    "# Question 17. Merge (5 pts).\n",
    "Based on the result from the previous question, create (A) dataFrame of Sharpe ratio in 2020 and (B) dataFrame of Sharpe ratio in 2021.\n",
    "Then merge (A) dataFrame of Sharpe ratio in 2020 and (B) dataFrame of Sharpe ratio in 2020. \n",
    "The merged keys should be month. Also add suffixes (\"_2020\" and \"_2021\") to distinguish years.\n"
   ]
  },
  {
   "cell_type": "code",
   "execution_count": 18,
   "metadata": {},
   "outputs": [],
   "source": [
    "## your code:\n"
   ]
  },
  {
   "cell_type": "markdown",
   "metadata": {},
   "source": [
    "## Question 18. Combination of skill sets (5 pts).\n",
    "For each of the three year from 2019/1/1 to 2021/12/31, \n",
    "calculate the days differece (in absolute value) between the date with the most positive stock return and the date with the most negative stock return."
   ]
  },
  {
   "cell_type": "code",
   "execution_count": 19,
   "metadata": {},
   "outputs": [],
   "source": [
    "## your code:\n"
   ]
  },
  {
   "cell_type": "markdown",
   "metadata": {},
   "source": [
    "## Question 19. Data cleaning (5pts). \n",
    "The following dataframe is given. Perform data cleaning, including the following sequencial steps:\n",
    "  - replace -99 to NA\n",
    "  - remove missing value (rows with any missing values)\n",
    "  - remove duplicates\n",
    "  - convert to integer\n",
    "  - use the map function to calculate the sum of all digits for each element of the Series, for each column\n",
    "  - sort by l1 (decending order)\n",
    "\n",
    "\n",
    "\n",
    "\n"
   ]
  },
  {
   "cell_type": "code",
   "execution_count": 20,
   "metadata": {},
   "outputs": [
    {
     "data": {
      "text/html": [
       "<div>\n",
       "<style scoped>\n",
       "    .dataframe tbody tr th:only-of-type {\n",
       "        vertical-align: middle;\n",
       "    }\n",
       "\n",
       "    .dataframe tbody tr th {\n",
       "        vertical-align: top;\n",
       "    }\n",
       "\n",
       "    .dataframe thead th {\n",
       "        text-align: right;\n",
       "    }\n",
       "</style>\n",
       "<table border=\"1\" class=\"dataframe\">\n",
       "  <thead>\n",
       "    <tr style=\"text-align: right;\">\n",
       "      <th></th>\n",
       "      <th>l1</th>\n",
       "      <th>l2</th>\n",
       "    </tr>\n",
       "  </thead>\n",
       "  <tbody>\n",
       "    <tr>\n",
       "      <th>0</th>\n",
       "      <td>1.0</td>\n",
       "      <td>1.0</td>\n",
       "    </tr>\n",
       "    <tr>\n",
       "      <th>1</th>\n",
       "      <td>2.0</td>\n",
       "      <td>NaN</td>\n",
       "    </tr>\n",
       "    <tr>\n",
       "      <th>2</th>\n",
       "      <td>3.0</td>\n",
       "      <td>3.0</td>\n",
       "    </tr>\n",
       "    <tr>\n",
       "      <th>3</th>\n",
       "      <td>18.0</td>\n",
       "      <td>7.0</td>\n",
       "    </tr>\n",
       "    <tr>\n",
       "      <th>4</th>\n",
       "      <td>13.0</td>\n",
       "      <td>NaN</td>\n",
       "    </tr>\n",
       "  </tbody>\n",
       "</table>\n",
       "</div>"
      ],
      "text/plain": [
       "     l1   l2\n",
       "0   1.0  1.0\n",
       "1   2.0  NaN\n",
       "2   3.0  3.0\n",
       "3  18.0  7.0\n",
       "4  13.0  NaN"
      ]
     },
     "execution_count": 20,
     "metadata": {},
     "output_type": "execute_result"
    }
   ],
   "source": [
    "## This data is given\n",
    "\n",
    "data = pd.DataFrame({\"l1\": [1,2,3,18,13, 1, 15,6,-99,21,3,np.nan], \n",
    "\"l2\": [1,np.nan,3,7,np.nan,1, 5,-99,-99,3,3,9]})\n",
    "data.head()\n"
   ]
  },
  {
   "cell_type": "code",
   "execution_count": 21,
   "metadata": {},
   "outputs": [],
   "source": [
    "## your code\n"
   ]
  },
  {
   "cell_type": "markdown",
   "metadata": {},
   "source": [
    "## Note (5 pts):\n",
    "\n",
    "\n",
    "\n",
    "### Homework should be uploaded to courseweb:\n",
    "1. Save your compiled result as html file. Rename the file name as: hw5_Lastname_Firstname.html. To save .ipynb as .html, click file -> save and export Notebook as -> html.\n",
    "2. Don't forget to write your name on the top of the html file.\n",
    "3. ipynb file is not required. You only need to upload the html file to the [e-leaning](https://elearning.ufl.edu) website.\n",
    "\n",
    "### If you generate a figure, please write appropriate figure title, labels, legend if necessary.\n",
    "\n",
    "### If your code is not intuitive, please write comments to make the code readible. \n",
    "\n",
    "\n"
   ]
  },
  {
   "cell_type": "code",
   "execution_count": null,
   "metadata": {},
   "outputs": [],
   "source": []
  }
 ],
 "metadata": {
  "kernelspec": {
   "display_name": "Python 3",
   "language": "python",
   "name": "python3"
  },
  "language_info": {
   "codemirror_mode": {
    "name": "ipython",
    "version": 3
   },
   "file_extension": ".py",
   "mimetype": "text/x-python",
   "name": "python",
   "nbconvert_exporter": "python",
   "pygments_lexer": "ipython3",
   "version": "3.7.4"
  }
 },
 "nbformat": 4,
 "nbformat_minor": 5
}
